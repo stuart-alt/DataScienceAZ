{
 "cells": [
  {
   "cell_type": "markdown",
   "metadata": {},
   "source": [
    "# Listas"
   ]
  },
  {
   "cell_type": "code",
   "execution_count": 8,
   "metadata": {},
   "outputs": [],
   "source": [
    "import numpy as npy"
   ]
  },
  {
   "cell_type": "code",
   "execution_count": 11,
   "metadata": {},
   "outputs": [
    {
     "data": {
      "text/plain": [
       "5.75"
      ]
     },
     "execution_count": 11,
     "metadata": {},
     "output_type": "execute_result"
    }
   ],
   "source": [
    "num = [1, 5, 7, 10]\n",
    "npy.mean(num)"
   ]
  },
  {
   "cell_type": "code",
   "execution_count": 8,
   "metadata": {},
   "outputs": [],
   "source": [
    "nomes1 = set(['Ana', 'Carol', 'Joana', 'vitoria'])\n",
    "nomes2 = set(['Josefa', 'Carol', 'Maria', 'Vitoria'])"
   ]
  },
  {
   "cell_type": "code",
   "execution_count": 12,
   "metadata": {},
   "outputs": [
    {
     "name": "stdout",
     "output_type": "stream",
     "text": [
      "{'Josefa', 'Carol', 'Maria', 'vitoria', 'Vitoria', 'Joana', 'Ana'}\n"
     ]
    }
   ],
   "source": [
    "# União\n",
    "\n",
    "funcionarios = nomes1 | nomes2\n",
    "\n",
    "print(funcionarios)"
   ]
  },
  {
   "cell_type": "code",
   "execution_count": 15,
   "metadata": {},
   "outputs": [
    {
     "name": "stdout",
     "output_type": "stream",
     "text": [
      "{'Carol'}\n"
     ]
    }
   ],
   "source": [
    "# Interseção\n",
    "\n",
    "funcionarios = nomes1 & nomes2\n",
    "print(funcionarios)"
   ]
  },
  {
   "cell_type": "code",
   "execution_count": 17,
   "metadata": {},
   "outputs": [
    {
     "name": "stdout",
     "output_type": "stream",
     "text": [
      "{'vitoria', 'Joana', 'Ana'}\n"
     ]
    }
   ],
   "source": [
    "# Diferença\n",
    "\n",
    "funcionarios = nomes1 - nomes2\n",
    "print(funcionarios)"
   ]
  },
  {
   "cell_type": "code",
   "execution_count": null,
   "metadata": {},
   "outputs": [],
   "source": []
  }
 ],
 "metadata": {
  "kernelspec": {
   "display_name": "Python 3",
   "language": "python",
   "name": "python3"
  },
  "language_info": {
   "codemirror_mode": {
    "name": "ipython",
    "version": 3
   },
   "file_extension": ".py",
   "mimetype": "text/x-python",
   "name": "python",
   "nbconvert_exporter": "python",
   "pygments_lexer": "ipython3",
   "version": "3.7.3"
  }
 },
 "nbformat": 4,
 "nbformat_minor": 2
}
