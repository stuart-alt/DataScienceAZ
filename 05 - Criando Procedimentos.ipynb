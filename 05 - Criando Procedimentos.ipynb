{
 "cells": [
  {
   "cell_type": "code",
   "execution_count": 12,
   "metadata": {},
   "outputs": [],
   "source": [
    "def checkIfPar(n1):\n",
    "    if n1 == 0:\n",
    "        print('0 não é par e nem impar!')\n",
    "    elif n1 % 2 == 0:\n",
    "        print('É par!')\n",
    "    else:\n",
    "        print('É impar')"
   ]
  },
  {
   "cell_type": "code",
   "execution_count": 14,
   "metadata": {},
   "outputs": [
    {
     "name": "stdout",
     "output_type": "stream",
     "text": [
      "0 não é par e nem impar!\n",
      "É impar\n",
      "É par!\n"
     ]
    }
   ],
   "source": [
    "checkIfPar(0)\n",
    "checkIfPar(1)\n",
    "checkIfPar(2)"
   ]
  },
  {
   "cell_type": "code",
   "execution_count": null,
   "metadata": {},
   "outputs": [],
   "source": []
  }
 ],
 "metadata": {
  "kernelspec": {
   "display_name": "Python 3",
   "language": "python",
   "name": "python3"
  },
  "language_info": {
   "codemirror_mode": {
    "name": "ipython",
    "version": 3
   },
   "file_extension": ".py",
   "mimetype": "text/x-python",
   "name": "python",
   "nbconvert_exporter": "python",
   "pygments_lexer": "ipython3",
   "version": "3.7.3"
  }
 },
 "nbformat": 4,
 "nbformat_minor": 2
}
