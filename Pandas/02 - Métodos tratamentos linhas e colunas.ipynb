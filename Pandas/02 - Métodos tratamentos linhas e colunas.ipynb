{
 "cells": [
  {
   "cell_type": "code",
   "execution_count": 2,
   "metadata": {},
   "outputs": [],
   "source": [
    "import pandas as pd\n",
    "import numpy as np"
   ]
  },
  {
   "cell_type": "code",
   "execution_count": 28,
   "metadata": {},
   "outputs": [],
   "source": [
    "diarias = pd.read_csv('./Diarias.csv', encoding = 'latin-1', sep = '\\t')  # Precisar passar o encoding, pois o \n",
    "# arquivo tem acentos, 'Ç' e etc."
   ]
  },
  {
   "cell_type": "code",
   "execution_count": 29,
   "metadata": {
    "scrolled": true
   },
   "outputs": [
    {
     "data": {
      "text/html": [
       "<div>\n",
       "<style scoped>\n",
       "    .dataframe tbody tr th:only-of-type {\n",
       "        vertical-align: middle;\n",
       "    }\n",
       "\n",
       "    .dataframe tbody tr th {\n",
       "        vertical-align: top;\n",
       "    }\n",
       "\n",
       "    .dataframe thead th {\n",
       "        text-align: right;\n",
       "    }\n",
       "</style>\n",
       "<table border=\"1\" class=\"dataframe\">\n",
       "  <thead>\n",
       "    <tr style=\"text-align: right;\">\n",
       "      <th></th>\n",
       "      <th>Código Órgão Superior</th>\n",
       "      <th>Nome Órgão Superior</th>\n",
       "      <th>Código Órgão Subordinado</th>\n",
       "      <th>Nome Órgão Subordinado</th>\n",
       "      <th>Código Unidade Gestora</th>\n",
       "      <th>Nome Unidade Gestora</th>\n",
       "      <th>Código Função</th>\n",
       "      <th>Nome Função</th>\n",
       "      <th>Código Subfunção</th>\n",
       "      <th>Nome Subunção</th>\n",
       "      <th>...</th>\n",
       "      <th>Nome Programa</th>\n",
       "      <th>Código Ação</th>\n",
       "      <th>Nome Ação</th>\n",
       "      <th>Linguagem Cidadã</th>\n",
       "      <th>CPF Favorecido</th>\n",
       "      <th>Nome Favorecido</th>\n",
       "      <th>Documento Pagamento</th>\n",
       "      <th>Gestão Pagamento</th>\n",
       "      <th>Data Pagamento</th>\n",
       "      <th>Valor Pagamento</th>\n",
       "    </tr>\n",
       "  </thead>\n",
       "  <tbody>\n",
       "    <tr>\n",
       "      <th>0</th>\n",
       "      <td>20000</td>\n",
       "      <td>PRESIDENCIA DA REPUBLICA</td>\n",
       "      <td>20101</td>\n",
       "      <td>PRESIDENCIA DA REPUBLICA</td>\n",
       "      <td>110001</td>\n",
       "      <td>SECRETARIA DE ADMINISTRACAO/PR</td>\n",
       "      <td>4</td>\n",
       "      <td>Administração</td>\n",
       "      <td>122</td>\n",
       "      <td>Administração Geral</td>\n",
       "      <td>...</td>\n",
       "      <td>Programa de Gestão e Manutenção da Presidência...</td>\n",
       "      <td>2000</td>\n",
       "      <td>Administração da Unidade</td>\n",
       "      <td>Administração de unidade</td>\n",
       "      <td>***.008.30*-**</td>\n",
       "      <td>HUMBERTO GUEDES CAMPELO</td>\n",
       "      <td>2017OB800780</td>\n",
       "      <td>1</td>\n",
       "      <td>06/02/2017</td>\n",
       "      <td>1263.2</td>\n",
       "    </tr>\n",
       "    <tr>\n",
       "      <th>1</th>\n",
       "      <td>20000</td>\n",
       "      <td>PRESIDENCIA DA REPUBLICA</td>\n",
       "      <td>20101</td>\n",
       "      <td>PRESIDENCIA DA REPUBLICA</td>\n",
       "      <td>110001</td>\n",
       "      <td>SECRETARIA DE ADMINISTRACAO/PR</td>\n",
       "      <td>4</td>\n",
       "      <td>Administração</td>\n",
       "      <td>122</td>\n",
       "      <td>Administração Geral</td>\n",
       "      <td>...</td>\n",
       "      <td>Programa de Gestão e Manutenção da Presidência...</td>\n",
       "      <td>2000</td>\n",
       "      <td>Administração da Unidade</td>\n",
       "      <td>Administração de unidade</td>\n",
       "      <td>***.008.30*-**</td>\n",
       "      <td>HUMBERTO GUEDES CAMPELO</td>\n",
       "      <td>2017OB800993</td>\n",
       "      <td>1</td>\n",
       "      <td>20/02/2017</td>\n",
       "      <td>2325.2</td>\n",
       "    </tr>\n",
       "    <tr>\n",
       "      <th>2</th>\n",
       "      <td>20000</td>\n",
       "      <td>PRESIDENCIA DA REPUBLICA</td>\n",
       "      <td>20101</td>\n",
       "      <td>PRESIDENCIA DA REPUBLICA</td>\n",
       "      <td>110001</td>\n",
       "      <td>SECRETARIA DE ADMINISTRACAO/PR</td>\n",
       "      <td>4</td>\n",
       "      <td>Administração</td>\n",
       "      <td>122</td>\n",
       "      <td>Administração Geral</td>\n",
       "      <td>...</td>\n",
       "      <td>Programa de Gestão e Manutenção da Presidência...</td>\n",
       "      <td>2000</td>\n",
       "      <td>Administração da Unidade</td>\n",
       "      <td>Administração de unidade</td>\n",
       "      <td>***.016.72*-**</td>\n",
       "      <td>ANTONIO JOSE DE SENA BOMFIM</td>\n",
       "      <td>2017OB800926</td>\n",
       "      <td>1</td>\n",
       "      <td>14/02/2017</td>\n",
       "      <td>300.2</td>\n",
       "    </tr>\n",
       "  </tbody>\n",
       "</table>\n",
       "<p>3 rows × 21 columns</p>\n",
       "</div>"
      ],
      "text/plain": [
       "   Código Órgão Superior       Nome Órgão Superior  Código Órgão Subordinado  \\\n",
       "0                  20000  PRESIDENCIA DA REPUBLICA                     20101   \n",
       "1                  20000  PRESIDENCIA DA REPUBLICA                     20101   \n",
       "2                  20000  PRESIDENCIA DA REPUBLICA                     20101   \n",
       "\n",
       "     Nome Órgão Subordinado  Código Unidade Gestora  \\\n",
       "0  PRESIDENCIA DA REPUBLICA                  110001   \n",
       "1  PRESIDENCIA DA REPUBLICA                  110001   \n",
       "2  PRESIDENCIA DA REPUBLICA                  110001   \n",
       "\n",
       "             Nome Unidade Gestora  Código Função    Nome Função  \\\n",
       "0  SECRETARIA DE ADMINISTRACAO/PR              4  Administração   \n",
       "1  SECRETARIA DE ADMINISTRACAO/PR              4  Administração   \n",
       "2  SECRETARIA DE ADMINISTRACAO/PR              4  Administração   \n",
       "\n",
       "   Código Subfunção        Nome Subunção  ...  \\\n",
       "0               122  Administração Geral  ...   \n",
       "1               122  Administração Geral  ...   \n",
       "2               122  Administração Geral  ...   \n",
       "\n",
       "                                       Nome Programa Código Ação  \\\n",
       "0  Programa de Gestão e Manutenção da Presidência...        2000   \n",
       "1  Programa de Gestão e Manutenção da Presidência...        2000   \n",
       "2  Programa de Gestão e Manutenção da Presidência...        2000   \n",
       "\n",
       "                  Nome Ação          Linguagem Cidadã  CPF Favorecido  \\\n",
       "0  Administração da Unidade  Administração de unidade  ***.008.30*-**   \n",
       "1  Administração da Unidade  Administração de unidade  ***.008.30*-**   \n",
       "2  Administração da Unidade  Administração de unidade  ***.016.72*-**   \n",
       "\n",
       "               Nome Favorecido Documento Pagamento Gestão Pagamento  \\\n",
       "0      HUMBERTO GUEDES CAMPELO        2017OB800780                1   \n",
       "1      HUMBERTO GUEDES CAMPELO        2017OB800993                1   \n",
       "2  ANTONIO JOSE DE SENA BOMFIM        2017OB800926                1   \n",
       "\n",
       "   Data Pagamento Valor Pagamento  \n",
       "0      06/02/2017          1263.2  \n",
       "1      20/02/2017          2325.2  \n",
       "2      14/02/2017           300.2  \n",
       "\n",
       "[3 rows x 21 columns]"
      ]
     },
     "execution_count": 29,
     "metadata": {},
     "output_type": "execute_result"
    }
   ],
   "source": [
    "diarias.head(3)"
   ]
  },
  {
   "cell_type": "code",
   "execution_count": 11,
   "metadata": {},
   "outputs": [
    {
     "data": {
      "text/plain": [
       "Index(['Código Órgão Superior', 'Nome Órgão Superior',\n",
       "       'Código Órgão Subordinado', 'Nome Órgão Subordinado',\n",
       "       'Código Unidade Gestora', 'Nome Unidade Gestora', 'Código Função',\n",
       "       'Nome Função', 'Código Subfunção', 'Nome Subunção', 'Código Programa',\n",
       "       'Nome Programa', 'Código Ação', 'Nome Ação', 'Linguagem Cidadã',\n",
       "       'CPF Favorecido', 'Nome Favorecido', 'Documento Pagamento',\n",
       "       'Gestão Pagamento', 'Data Pagamento', 'Valor Pagamento'],\n",
       "      dtype='object')"
      ]
     },
     "execution_count": 11,
     "metadata": {},
     "output_type": "execute_result"
    }
   ],
   "source": [
    "diarias.columns"
   ]
  },
  {
   "cell_type": "code",
   "execution_count": 30,
   "metadata": {},
   "outputs": [
    {
     "data": {
      "text/plain": [
       "35626.5"
      ]
     },
     "execution_count": 30,
     "metadata": {},
     "output_type": "execute_result"
    }
   ],
   "source": [
    "max(diarias['Valor Pagamento'])  # Traz o maior valor da coluna 'Valor Pagamento'"
   ]
  },
  {
   "cell_type": "code",
   "execution_count": null,
   "metadata": {
    "scrolled": false
   },
   "outputs": [],
   "source": [
    "sorted(diarias['Valor Pagamento'], reverse=True) # Para confirmar, utilizei a função sorted reverse para trazer o maior."
   ]
  },
  {
   "cell_type": "code",
   "execution_count": 32,
   "metadata": {},
   "outputs": [
    {
     "data": {
      "text/plain": [
       "pandas.core.frame.DataFrame"
      ]
     },
     "execution_count": 32,
     "metadata": {},
     "output_type": "execute_result"
    }
   ],
   "source": [
    "type(diarias)"
   ]
  },
  {
   "cell_type": "code",
   "execution_count": 33,
   "metadata": {},
   "outputs": [
    {
     "data": {
      "text/plain": [
       "Index(['Código Órgão Superior', 'Nome Órgão Superior',\n",
       "       'Código Órgão Subordinado', 'Nome Órgão Subordinado',\n",
       "       'Código Unidade Gestora', 'Nome Unidade Gestora', 'Código Função',\n",
       "       'Nome Função', 'Código Subfunção', 'Nome Subunção', 'Código Programa',\n",
       "       'Nome Programa', 'Código Ação', 'Nome Ação', 'Linguagem Cidadã',\n",
       "       'CPF Favorecido', 'Nome Favorecido', 'Documento Pagamento',\n",
       "       'Gestão Pagamento', 'Data Pagamento', 'Valor Pagamento'],\n",
       "      dtype='object')"
      ]
     },
     "execution_count": 33,
     "metadata": {},
     "output_type": "execute_result"
    }
   ],
   "source": [
    "diarias.columns"
   ]
  },
  {
   "cell_type": "code",
   "execution_count": 34,
   "metadata": {},
   "outputs": [
    {
     "data": {
      "text/plain": [
       "Código Órgão Superior         int64\n",
       "Nome Órgão Superior          object\n",
       "Código Órgão Subordinado      int64\n",
       "Nome Órgão Subordinado       object\n",
       "Código Unidade Gestora        int64\n",
       "Nome Unidade Gestora         object\n",
       "Código Função                 int64\n",
       "Nome Função                  object\n",
       "Código Subfunção              int64\n",
       "Nome Subunção                object\n",
       "Código Programa               int64\n",
       "Nome Programa                object\n",
       "Código Ação                  object\n",
       "Nome Ação                    object\n",
       "Linguagem Cidadã             object\n",
       "CPF Favorecido               object\n",
       "Nome Favorecido              object\n",
       "Documento Pagamento          object\n",
       "Gestão Pagamento              int64\n",
       "Data Pagamento               object\n",
       "Valor Pagamento             float64\n",
       "dtype: object"
      ]
     },
     "execution_count": 34,
     "metadata": {},
     "output_type": "execute_result"
    }
   ],
   "source": [
    "diarias.dtypes  # Para verificar cada tipo de coluna\n",
    "# Object é o mesmo que String."
   ]
  },
  {
   "cell_type": "code",
   "execution_count": 36,
   "metadata": {},
   "outputs": [],
   "source": [
    "filmes = pd.read_csv('./movies.csv', sep = ',')"
   ]
  },
  {
   "cell_type": "code",
   "execution_count": 38,
   "metadata": {},
   "outputs": [
    {
     "data": {
      "text/html": [
       "<div>\n",
       "<style scoped>\n",
       "    .dataframe tbody tr th:only-of-type {\n",
       "        vertical-align: middle;\n",
       "    }\n",
       "\n",
       "    .dataframe tbody tr th {\n",
       "        vertical-align: top;\n",
       "    }\n",
       "\n",
       "    .dataframe thead th {\n",
       "        text-align: right;\n",
       "    }\n",
       "</style>\n",
       "<table border=\"1\" class=\"dataframe\">\n",
       "  <thead>\n",
       "    <tr style=\"text-align: right;\">\n",
       "      <th></th>\n",
       "      <th>star rating</th>\n",
       "      <th>title</th>\n",
       "      <th>content rating</th>\n",
       "      <th>genre</th>\n",
       "      <th>duration</th>\n",
       "      <th>actors list</th>\n",
       "    </tr>\n",
       "  </thead>\n",
       "  <tbody>\n",
       "    <tr>\n",
       "      <th>0</th>\n",
       "      <td>9.3</td>\n",
       "      <td>The Shawshank Redemption</td>\n",
       "      <td>R</td>\n",
       "      <td>Crime</td>\n",
       "      <td>142</td>\n",
       "      <td>[u'Tim Robbins', u'Morgan Freeman', u'Bob Gunt...</td>\n",
       "    </tr>\n",
       "    <tr>\n",
       "      <th>1</th>\n",
       "      <td>9.2</td>\n",
       "      <td>The Godfather</td>\n",
       "      <td>R</td>\n",
       "      <td>Crime</td>\n",
       "      <td>175</td>\n",
       "      <td>[u'Marlon Brando', u'Al Pacino', u'James Caan']</td>\n",
       "    </tr>\n",
       "  </tbody>\n",
       "</table>\n",
       "</div>"
      ],
      "text/plain": [
       "   star rating                     title content rating  genre  duration  \\\n",
       "0          9.3  The Shawshank Redemption              R  Crime       142   \n",
       "1          9.2             The Godfather              R  Crime       175   \n",
       "\n",
       "                                         actors list  \n",
       "0  [u'Tim Robbins', u'Morgan Freeman', u'Bob Gunt...  \n",
       "1    [u'Marlon Brando', u'Al Pacino', u'James Caan']  "
      ]
     },
     "execution_count": 38,
     "metadata": {},
     "output_type": "execute_result"
    }
   ],
   "source": [
    "filmes.head(2)"
   ]
  },
  {
   "cell_type": "code",
   "execution_count": 42,
   "metadata": {},
   "outputs": [
    {
     "data": {
      "text/html": [
       "<div>\n",
       "<style scoped>\n",
       "    .dataframe tbody tr th:only-of-type {\n",
       "        vertical-align: middle;\n",
       "    }\n",
       "\n",
       "    .dataframe tbody tr th {\n",
       "        vertical-align: top;\n",
       "    }\n",
       "\n",
       "    .dataframe thead th {\n",
       "        text-align: right;\n",
       "    }\n",
       "</style>\n",
       "<table border=\"1\" class=\"dataframe\">\n",
       "  <thead>\n",
       "    <tr style=\"text-align: right;\">\n",
       "      <th></th>\n",
       "      <th>star rating</th>\n",
       "      <th>duration</th>\n",
       "    </tr>\n",
       "  </thead>\n",
       "  <tbody>\n",
       "    <tr>\n",
       "      <th>count</th>\n",
       "      <td>979.000000</td>\n",
       "      <td>979.000000</td>\n",
       "    </tr>\n",
       "    <tr>\n",
       "      <th>mean</th>\n",
       "      <td>7.889785</td>\n",
       "      <td>120.979571</td>\n",
       "    </tr>\n",
       "    <tr>\n",
       "      <th>std</th>\n",
       "      <td>0.336069</td>\n",
       "      <td>26.218010</td>\n",
       "    </tr>\n",
       "    <tr>\n",
       "      <th>min</th>\n",
       "      <td>7.400000</td>\n",
       "      <td>64.000000</td>\n",
       "    </tr>\n",
       "    <tr>\n",
       "      <th>25%</th>\n",
       "      <td>7.600000</td>\n",
       "      <td>102.000000</td>\n",
       "    </tr>\n",
       "    <tr>\n",
       "      <th>50%</th>\n",
       "      <td>7.800000</td>\n",
       "      <td>117.000000</td>\n",
       "    </tr>\n",
       "    <tr>\n",
       "      <th>75%</th>\n",
       "      <td>8.100000</td>\n",
       "      <td>134.000000</td>\n",
       "    </tr>\n",
       "    <tr>\n",
       "      <th>max</th>\n",
       "      <td>9.300000</td>\n",
       "      <td>242.000000</td>\n",
       "    </tr>\n",
       "  </tbody>\n",
       "</table>\n",
       "</div>"
      ],
      "text/plain": [
       "       star rating    duration\n",
       "count   979.000000  979.000000\n",
       "mean      7.889785  120.979571\n",
       "std       0.336069   26.218010\n",
       "min       7.400000   64.000000\n",
       "25%       7.600000  102.000000\n",
       "50%       7.800000  117.000000\n",
       "75%       8.100000  134.000000\n",
       "max       9.300000  242.000000"
      ]
     },
     "execution_count": 42,
     "metadata": {},
     "output_type": "execute_result"
    }
   ],
   "source": [
    "filmes.describe()  # O método describe só utiliza colunas com números (int ou float) para análise."
   ]
  },
  {
   "cell_type": "code",
   "execution_count": 41,
   "metadata": {},
   "outputs": [
    {
     "data": {
      "text/plain": [
       "star rating       float64\n",
       "title              object\n",
       "content rating     object\n",
       "genre              object\n",
       "duration            int64\n",
       "actors list        object\n",
       "dtype: object"
      ]
     },
     "execution_count": 41,
     "metadata": {},
     "output_type": "execute_result"
    }
   ],
   "source": [
    "filmes.dtypes"
   ]
  },
  {
   "cell_type": "code",
   "execution_count": 46,
   "metadata": {},
   "outputs": [
    {
     "data": {
      "text/html": [
       "<div>\n",
       "<style scoped>\n",
       "    .dataframe tbody tr th:only-of-type {\n",
       "        vertical-align: middle;\n",
       "    }\n",
       "\n",
       "    .dataframe tbody tr th {\n",
       "        vertical-align: top;\n",
       "    }\n",
       "\n",
       "    .dataframe thead th {\n",
       "        text-align: right;\n",
       "    }\n",
       "</style>\n",
       "<table border=\"1\" class=\"dataframe\">\n",
       "  <thead>\n",
       "    <tr style=\"text-align: right;\">\n",
       "      <th></th>\n",
       "      <th>title</th>\n",
       "      <th>content rating</th>\n",
       "      <th>genre</th>\n",
       "      <th>actors list</th>\n",
       "    </tr>\n",
       "  </thead>\n",
       "  <tbody>\n",
       "    <tr>\n",
       "      <th>count</th>\n",
       "      <td>979</td>\n",
       "      <td>976</td>\n",
       "      <td>979</td>\n",
       "      <td>979</td>\n",
       "    </tr>\n",
       "    <tr>\n",
       "      <th>unique</th>\n",
       "      <td>975</td>\n",
       "      <td>12</td>\n",
       "      <td>16</td>\n",
       "      <td>969</td>\n",
       "    </tr>\n",
       "    <tr>\n",
       "      <th>top</th>\n",
       "      <td>Les Miserables</td>\n",
       "      <td>R</td>\n",
       "      <td>Drama</td>\n",
       "      <td>[u'Daniel Radcliffe', u'Emma Watson', u'Rupert...</td>\n",
       "    </tr>\n",
       "    <tr>\n",
       "      <th>freq</th>\n",
       "      <td>2</td>\n",
       "      <td>460</td>\n",
       "      <td>278</td>\n",
       "      <td>6</td>\n",
       "    </tr>\n",
       "  </tbody>\n",
       "</table>\n",
       "</div>"
      ],
      "text/plain": [
       "                 title content rating  genre  \\\n",
       "count              979            976    979   \n",
       "unique             975             12     16   \n",
       "top     Les Miserables              R  Drama   \n",
       "freq                 2            460    278   \n",
       "\n",
       "                                              actors list  \n",
       "count                                                 979  \n",
       "unique                                                969  \n",
       "top     [u'Daniel Radcliffe', u'Emma Watson', u'Rupert...  \n",
       "freq                                                    6  "
      ]
     },
     "execution_count": 46,
     "metadata": {},
     "output_type": "execute_result"
    }
   ],
   "source": [
    "filmes.describe(include=['object'])  # Para fazer uma análise dos tipos 'object', tem que usar o incluse='object'."
   ]
  },
  {
   "cell_type": "code",
   "execution_count": null,
   "metadata": {},
   "outputs": [],
   "source": [
    "filmes.describe()  # Se pressionar SHIFT + TAB até 3 vezes, abre um menu com os parametros."
   ]
  },
  {
   "cell_type": "code",
   "execution_count": 48,
   "metadata": {},
   "outputs": [
    {
     "data": {
      "text/plain": [
       "Index(['star rating', 'title', 'content rating', 'genre', 'duration',\n",
       "       'actors list'],\n",
       "      dtype='object')"
      ]
     },
     "execution_count": 48,
     "metadata": {},
     "output_type": "execute_result"
    }
   ],
   "source": [
    "filmes.columns"
   ]
  },
  {
   "cell_type": "code",
   "execution_count": 53,
   "metadata": {},
   "outputs": [],
   "source": [
    "# Renomear colunas. Se não usar o 'inplace=True', a mudança é apenas na célula.\n",
    "filmes.rename(columns = {'star rating':'star_rating', 'content rating': 'content_rating' }, inplace=True)"
   ]
  },
  {
   "cell_type": "code",
   "execution_count": 55,
   "metadata": {},
   "outputs": [
    {
     "data": {
      "text/plain": [
       "Index(['star_rating', 'title', 'content_rating', 'genre', 'duration',\n",
       "       'actors list'],\n",
       "      dtype='object')"
      ]
     },
     "execution_count": 55,
     "metadata": {},
     "output_type": "execute_result"
    }
   ],
   "source": [
    "filmes.columns"
   ]
  },
  {
   "cell_type": "code",
   "execution_count": 57,
   "metadata": {},
   "outputs": [],
   "source": [
    "# Podemos também passar uma lista  explicitamente.\n",
    "colunas = ['Estrelas', 'Titulo', 'Avaliacao', 'Genero', 'Duracao', 'Atores']\n",
    "filmes.columns = colunas"
   ]
  },
  {
   "cell_type": "code",
   "execution_count": 58,
   "metadata": {},
   "outputs": [
    {
     "data": {
      "text/plain": [
       "Index(['Estrelas', 'Titulo', 'Avaliacao', 'Genero', 'Duracao', 'Atores'], dtype='object')"
      ]
     },
     "execution_count": 58,
     "metadata": {},
     "output_type": "execute_result"
    }
   ],
   "source": [
    "filmes.columns"
   ]
  },
  {
   "cell_type": "code",
   "execution_count": 7,
   "metadata": {},
   "outputs": [],
   "source": [
    "colunas_filmes = ['Estrelas', 'Titulo', 'Avaliacao', 'Genero', 'Duracao', 'Atores']\n",
    "filmes = pd.read_csv('./movies.csv', sep = ',', header = 0, names=colunas_filmes)\n",
    "# Passando o nome das colunas diretamente na importação do arquivo."
   ]
  },
  {
   "cell_type": "code",
   "execution_count": 8,
   "metadata": {},
   "outputs": [],
   "source": [
    "filmes_csv = pd.read_csv('./movies.csv')"
   ]
  },
  {
   "cell_type": "code",
   "execution_count": 15,
   "metadata": {},
   "outputs": [],
   "source": [
    "filmes_csv.columns = filmes_csv.columns.str.replace(' ', '_')"
   ]
  },
  {
   "cell_type": "code",
   "execution_count": 16,
   "metadata": {},
   "outputs": [
    {
     "data": {
      "text/html": [
       "<div>\n",
       "<style scoped>\n",
       "    .dataframe tbody tr th:only-of-type {\n",
       "        vertical-align: middle;\n",
       "    }\n",
       "\n",
       "    .dataframe tbody tr th {\n",
       "        vertical-align: top;\n",
       "    }\n",
       "\n",
       "    .dataframe thead th {\n",
       "        text-align: right;\n",
       "    }\n",
       "</style>\n",
       "<table border=\"1\" class=\"dataframe\">\n",
       "  <thead>\n",
       "    <tr style=\"text-align: right;\">\n",
       "      <th></th>\n",
       "      <th>star_rating</th>\n",
       "      <th>title</th>\n",
       "      <th>content_rating</th>\n",
       "      <th>genre</th>\n",
       "      <th>duration</th>\n",
       "      <th>actors_list</th>\n",
       "    </tr>\n",
       "  </thead>\n",
       "  <tbody>\n",
       "    <tr>\n",
       "      <th>0</th>\n",
       "      <td>9.3</td>\n",
       "      <td>The Shawshank Redemption</td>\n",
       "      <td>R</td>\n",
       "      <td>Crime</td>\n",
       "      <td>142</td>\n",
       "      <td>[u'Tim Robbins', u'Morgan Freeman', u'Bob Gunt...</td>\n",
       "    </tr>\n",
       "    <tr>\n",
       "      <th>1</th>\n",
       "      <td>9.2</td>\n",
       "      <td>The Godfather</td>\n",
       "      <td>R</td>\n",
       "      <td>Crime</td>\n",
       "      <td>175</td>\n",
       "      <td>[u'Marlon Brando', u'Al Pacino', u'James Caan']</td>\n",
       "    </tr>\n",
       "  </tbody>\n",
       "</table>\n",
       "</div>"
      ],
      "text/plain": [
       "   star_rating                     title content_rating  genre  duration  \\\n",
       "0          9.3  The Shawshank Redemption              R  Crime       142   \n",
       "1          9.2             The Godfather              R  Crime       175   \n",
       "\n",
       "                                         actors_list  \n",
       "0  [u'Tim Robbins', u'Morgan Freeman', u'Bob Gunt...  \n",
       "1    [u'Marlon Brando', u'Al Pacino', u'James Caan']  "
      ]
     },
     "execution_count": 16,
     "metadata": {},
     "output_type": "execute_result"
    }
   ],
   "source": [
    "filmes_csv.head(2)"
   ]
  },
  {
   "cell_type": "markdown",
   "metadata": {},
   "source": [
    "## Removendo colunas do dataframe."
   ]
  },
  {
   "cell_type": "code",
   "execution_count": 17,
   "metadata": {},
   "outputs": [],
   "source": [
    "# Por boa prática, ao realizar alteração no dataframe, devemos atribiuir o dataframe a outra variavel.\n",
    "# Assim é possível rastrear as mudanças realizadas.\n",
    "# Também é possível utilizar o 'inplace=True'\n",
    "\n",
    "# axis 0 == Linha // axis 1 == Coluna\n",
    "\n",
    "filmes01 = filmes_csv.drop('content_rating', axis=1)"
   ]
  },
  {
   "cell_type": "code",
   "execution_count": 20,
   "metadata": {},
   "outputs": [
    {
     "data": {
      "text/html": [
       "<div>\n",
       "<style scoped>\n",
       "    .dataframe tbody tr th:only-of-type {\n",
       "        vertical-align: middle;\n",
       "    }\n",
       "\n",
       "    .dataframe tbody tr th {\n",
       "        vertical-align: top;\n",
       "    }\n",
       "\n",
       "    .dataframe thead th {\n",
       "        text-align: right;\n",
       "    }\n",
       "</style>\n",
       "<table border=\"1\" class=\"dataframe\">\n",
       "  <thead>\n",
       "    <tr style=\"text-align: right;\">\n",
       "      <th></th>\n",
       "      <th>star_rating</th>\n",
       "      <th>title</th>\n",
       "      <th>genre</th>\n",
       "      <th>duration</th>\n",
       "      <th>actors_list</th>\n",
       "    </tr>\n",
       "  </thead>\n",
       "  <tbody>\n",
       "    <tr>\n",
       "      <th>0</th>\n",
       "      <td>9.3</td>\n",
       "      <td>The Shawshank Redemption</td>\n",
       "      <td>Crime</td>\n",
       "      <td>142</td>\n",
       "      <td>[u'Tim Robbins', u'Morgan Freeman', u'Bob Gunt...</td>\n",
       "    </tr>\n",
       "    <tr>\n",
       "      <th>1</th>\n",
       "      <td>9.2</td>\n",
       "      <td>The Godfather</td>\n",
       "      <td>Crime</td>\n",
       "      <td>175</td>\n",
       "      <td>[u'Marlon Brando', u'Al Pacino', u'James Caan']</td>\n",
       "    </tr>\n",
       "  </tbody>\n",
       "</table>\n",
       "</div>"
      ],
      "text/plain": [
       "   star_rating                     title  genre  duration  \\\n",
       "0          9.3  The Shawshank Redemption  Crime       142   \n",
       "1          9.2             The Godfather  Crime       175   \n",
       "\n",
       "                                         actors_list  \n",
       "0  [u'Tim Robbins', u'Morgan Freeman', u'Bob Gunt...  \n",
       "1    [u'Marlon Brando', u'Al Pacino', u'James Caan']  "
      ]
     },
     "execution_count": 20,
     "metadata": {},
     "output_type": "execute_result"
    }
   ],
   "source": [
    "filmes01.head(2)"
   ]
  },
  {
   "cell_type": "code",
   "execution_count": 23,
   "metadata": {},
   "outputs": [],
   "source": [
    "# Para remover mais de uma coluna, tem que passar uma lista:\n",
    "filmes02 = filmes_csv.drop(['content_rating', 'duration', 'actors_list'], axis=1)"
   ]
  },
  {
   "cell_type": "code",
   "execution_count": 24,
   "metadata": {},
   "outputs": [
    {
     "data": {
      "text/html": [
       "<div>\n",
       "<style scoped>\n",
       "    .dataframe tbody tr th:only-of-type {\n",
       "        vertical-align: middle;\n",
       "    }\n",
       "\n",
       "    .dataframe tbody tr th {\n",
       "        vertical-align: top;\n",
       "    }\n",
       "\n",
       "    .dataframe thead th {\n",
       "        text-align: right;\n",
       "    }\n",
       "</style>\n",
       "<table border=\"1\" class=\"dataframe\">\n",
       "  <thead>\n",
       "    <tr style=\"text-align: right;\">\n",
       "      <th></th>\n",
       "      <th>star_rating</th>\n",
       "      <th>title</th>\n",
       "      <th>genre</th>\n",
       "    </tr>\n",
       "  </thead>\n",
       "  <tbody>\n",
       "    <tr>\n",
       "      <th>0</th>\n",
       "      <td>9.3</td>\n",
       "      <td>The Shawshank Redemption</td>\n",
       "      <td>Crime</td>\n",
       "    </tr>\n",
       "    <tr>\n",
       "      <th>1</th>\n",
       "      <td>9.2</td>\n",
       "      <td>The Godfather</td>\n",
       "      <td>Crime</td>\n",
       "    </tr>\n",
       "  </tbody>\n",
       "</table>\n",
       "</div>"
      ],
      "text/plain": [
       "   star_rating                     title  genre\n",
       "0          9.3  The Shawshank Redemption  Crime\n",
       "1          9.2             The Godfather  Crime"
      ]
     },
     "execution_count": 24,
     "metadata": {},
     "output_type": "execute_result"
    }
   ],
   "source": [
    "filmes02.head(2)"
   ]
  },
  {
   "cell_type": "code",
   "execution_count": 30,
   "metadata": {},
   "outputs": [],
   "source": [
    "# Removendo linhas do dataframe\n",
    "# axis 0 == Linha // axis 1 == Coluna\n",
    "\n",
    "filmes03 = filmes02.drop([0,1], axis=0)"
   ]
  },
  {
   "cell_type": "code",
   "execution_count": 32,
   "metadata": {},
   "outputs": [
    {
     "data": {
      "text/html": [
       "<div>\n",
       "<style scoped>\n",
       "    .dataframe tbody tr th:only-of-type {\n",
       "        vertical-align: middle;\n",
       "    }\n",
       "\n",
       "    .dataframe tbody tr th {\n",
       "        vertical-align: top;\n",
       "    }\n",
       "\n",
       "    .dataframe thead th {\n",
       "        text-align: right;\n",
       "    }\n",
       "</style>\n",
       "<table border=\"1\" class=\"dataframe\">\n",
       "  <thead>\n",
       "    <tr style=\"text-align: right;\">\n",
       "      <th></th>\n",
       "      <th>star_rating</th>\n",
       "      <th>title</th>\n",
       "      <th>genre</th>\n",
       "    </tr>\n",
       "  </thead>\n",
       "  <tbody>\n",
       "    <tr>\n",
       "      <th>2</th>\n",
       "      <td>9.1</td>\n",
       "      <td>The Godfather: Part II</td>\n",
       "      <td>Crime</td>\n",
       "    </tr>\n",
       "    <tr>\n",
       "      <th>3</th>\n",
       "      <td>9.0</td>\n",
       "      <td>The Dark Knight</td>\n",
       "      <td>Action</td>\n",
       "    </tr>\n",
       "    <tr>\n",
       "      <th>4</th>\n",
       "      <td>8.9</td>\n",
       "      <td>Pulp Fiction</td>\n",
       "      <td>Crime</td>\n",
       "    </tr>\n",
       "  </tbody>\n",
       "</table>\n",
       "</div>"
      ],
      "text/plain": [
       "   star_rating                   title   genre\n",
       "2          9.1  The Godfather: Part II   Crime\n",
       "3          9.0         The Dark Knight  Action\n",
       "4          8.9            Pulp Fiction   Crime"
      ]
     },
     "execution_count": 32,
     "metadata": {},
     "output_type": "execute_result"
    }
   ],
   "source": [
    "filmes03.head(3)"
   ]
  },
  {
   "cell_type": "code",
   "execution_count": null,
   "metadata": {},
   "outputs": [],
   "source": []
  }
 ],
 "metadata": {
  "kernelspec": {
   "display_name": "Python 3",
   "language": "python",
   "name": "python3"
  },
  "language_info": {
   "codemirror_mode": {
    "name": "ipython",
    "version": 3
   },
   "file_extension": ".py",
   "mimetype": "text/x-python",
   "name": "python",
   "nbconvert_exporter": "python",
   "pygments_lexer": "ipython3",
   "version": "3.7.3"
  }
 },
 "nbformat": 4,
 "nbformat_minor": 2
}
